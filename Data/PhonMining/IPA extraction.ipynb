{
 "cells": [
  {
   "cell_type": "code",
   "execution_count": 91,
   "metadata": {},
   "outputs": [],
   "source": [
    "import pandas as pd\n",
    "import numpy as np\n",
    "words = pd.read_csv('../Processed/noPhon.csv', na_filter = False)\n",
    "words['phon'] = np.NaN\n",
    "words['method'] = np.NaN"
   ]
  },
  {
   "cell_type": "code",
   "execution_count": 92,
   "metadata": {},
   "outputs": [],
   "source": [
    "import epitran"
   ]
  },
  {
   "cell_type": "code",
   "execution_count": 93,
   "metadata": {},
   "outputs": [
    {
     "data": {
      "text/plain": [
       "{'Ancient Greek',\n",
       " 'Avar (Ansalta dialect)',\n",
       " 'Avar (Araderikh dialect)',\n",
       " 'Avar (East Gergebil dialect)',\n",
       " 'Avar (Khunzakh dialect)',\n",
       " 'Avar (Salatav dialect)',\n",
       " 'Catalan',\n",
       " 'Czech',\n",
       " 'Danish',\n",
       " 'Dutch',\n",
       " 'English',\n",
       " 'French',\n",
       " 'German',\n",
       " 'Gothic',\n",
       " 'Hittite',\n",
       " 'Irish',\n",
       " 'Italian',\n",
       " 'Khwarshi (Kwantlada dialect)',\n",
       " 'Latin',\n",
       " 'Latvian',\n",
       " 'Lithuanian',\n",
       " 'Middle English',\n",
       " 'Middle High German',\n",
       " 'Modern Greek',\n",
       " 'Old English',\n",
       " 'Old High German',\n",
       " 'Old Irish',\n",
       " 'Old Norse',\n",
       " 'Old Prussian',\n",
       " 'Ossetic',\n",
       " 'Polish',\n",
       " 'Portuguese',\n",
       " 'Romanian',\n",
       " 'Sanskrit',\n",
       " 'Swedish',\n",
       " 'Welsh'}"
      ]
     },
     "execution_count": 93,
     "metadata": {},
     "output_type": "execute_result"
    }
   ],
   "source": [
    "set(words['language'])"
   ]
  },
  {
   "cell_type": "markdown",
   "metadata": {},
   "source": [
    "## German"
   ]
  },
  {
   "cell_type": "code",
   "execution_count": 94,
   "metadata": {},
   "outputs": [],
   "source": [
    "epi = epitran.Epitran('deu-Latn')"
   ]
  },
  {
   "cell_type": "code",
   "execution_count": 95,
   "metadata": {},
   "outputs": [],
   "source": [
    "germanWords = words[words['language'] == \"German\"]"
   ]
  },
  {
   "cell_type": "code",
   "execution_count": 96,
   "metadata": {},
   "outputs": [],
   "source": [
    "newGermanWords = [epi.transliterate(word) for word in germanWords['Form']]"
   ]
  },
  {
   "cell_type": "code",
   "execution_count": 97,
   "metadata": {},
   "outputs": [],
   "source": [
    "words.loc[words['language'] == 'German', 'phon'] = newGermanWords\n",
    "words.loc[words['language'] == 'German', 'method'] = 'epitran'"
   ]
  },
  {
   "cell_type": "markdown",
   "metadata": {},
   "source": [
    "## Catalan"
   ]
  },
  {
   "cell_type": "code",
   "execution_count": 98,
   "metadata": {},
   "outputs": [],
   "source": [
    "epi = epitran.Epitran('cat-Latn')"
   ]
  },
  {
   "cell_type": "code",
   "execution_count": 99,
   "metadata": {},
   "outputs": [],
   "source": [
    "catalanWords = words[words['language'] == \"Catalan\"]"
   ]
  },
  {
   "cell_type": "code",
   "execution_count": 100,
   "metadata": {},
   "outputs": [],
   "source": [
    "words.loc[words['language'] == 'Catalan', 'phon'] = [epi.transliterate(word) for word in catalanWords['Form']]\n",
    "words.loc[words['language'] == 'Catalan', 'method'] = 'epitran'"
   ]
  },
  {
   "cell_type": "markdown",
   "metadata": {},
   "source": [
    "## Italian"
   ]
  },
  {
   "cell_type": "code",
   "execution_count": 101,
   "metadata": {},
   "outputs": [],
   "source": [
    "epi = epitran.Epitran('ita-Latn')"
   ]
  },
  {
   "cell_type": "code",
   "execution_count": 102,
   "metadata": {},
   "outputs": [],
   "source": [
    "italianWords = words[words['language'] == \"Italian\"]"
   ]
  },
  {
   "cell_type": "code",
   "execution_count": 103,
   "metadata": {},
   "outputs": [],
   "source": [
    "words.loc[words['language'] == 'Italian', 'phon'] = [epi.transliterate(word) for word in italianWords['Form']]\n",
    "words.loc[words['language'] == 'Italian', 'method'] = 'epitran'"
   ]
  },
  {
   "cell_type": "markdown",
   "metadata": {},
   "source": [
    "## Swedish"
   ]
  },
  {
   "cell_type": "code",
   "execution_count": 104,
   "metadata": {},
   "outputs": [],
   "source": [
    "epi = epitran.Epitran('swe-Latn')"
   ]
  },
  {
   "cell_type": "code",
   "execution_count": 105,
   "metadata": {},
   "outputs": [],
   "source": [
    "swedishWords = words[words['language'] == \"Swedish\"]"
   ]
  },
  {
   "cell_type": "code",
   "execution_count": 106,
   "metadata": {},
   "outputs": [],
   "source": [
    "words.loc[words['language'] == 'Swedish', 'phon'] = [epi.transliterate(word) for word in swedishWords['Form']]\n",
    "words.loc[words['language'] == 'Swedish', 'method'] = 'epitran'"
   ]
  },
  {
   "cell_type": "markdown",
   "metadata": {},
   "source": [
    "## Portuguese"
   ]
  },
  {
   "cell_type": "code",
   "execution_count": 107,
   "metadata": {},
   "outputs": [],
   "source": [
    "epi = epitran.Epitran('por-Latn')"
   ]
  },
  {
   "cell_type": "code",
   "execution_count": 108,
   "metadata": {},
   "outputs": [],
   "source": [
    "portugueseWords = words[words['language'] == \"Portuguese\"]"
   ]
  },
  {
   "cell_type": "code",
   "execution_count": 109,
   "metadata": {},
   "outputs": [],
   "source": [
    "words.loc[words['language'] == 'Portuguese', 'phon'] = [epi.transliterate(word) for word in portugueseWords['Form']]\n",
    "words.loc[words['language'] == 'Portuguese', 'method'] = 'epitran'"
   ]
  },
  {
   "cell_type": "markdown",
   "metadata": {},
   "source": [
    "## Polish"
   ]
  },
  {
   "cell_type": "code",
   "execution_count": 110,
   "metadata": {},
   "outputs": [],
   "source": [
    "epi = epitran.Epitran('pol-Latn')"
   ]
  },
  {
   "cell_type": "code",
   "execution_count": 111,
   "metadata": {},
   "outputs": [],
   "source": [
    "polishWords = words[words['language'] == \"Polish\"]"
   ]
  },
  {
   "cell_type": "code",
   "execution_count": 112,
   "metadata": {},
   "outputs": [],
   "source": [
    "words.loc[words['language'] == 'Polish', 'phon'] = [epi.transliterate(word) for word in polishWords['Form']]\n",
    "words.loc[words['language'] == 'Polish', 'method'] = 'epitran'"
   ]
  },
  {
   "cell_type": "markdown",
   "metadata": {},
   "source": [
    "## Dutch"
   ]
  },
  {
   "cell_type": "code",
   "execution_count": 113,
   "metadata": {},
   "outputs": [],
   "source": [
    "epi = epitran.Epitran('nld-Latn')"
   ]
  },
  {
   "cell_type": "code",
   "execution_count": 114,
   "metadata": {},
   "outputs": [],
   "source": [
    "dutchWords = words[words['language'] == \"Dutch\"]"
   ]
  },
  {
   "cell_type": "code",
   "execution_count": 115,
   "metadata": {},
   "outputs": [],
   "source": [
    "words.loc[words['language'] == 'Dutch', 'phon'] = [epi.transliterate(word) for word in dutchWords['Form']]\n",
    "words.loc[words['language'] == 'Dutch', 'method'] = 'epitran'"
   ]
  },
  {
   "cell_type": "markdown",
   "metadata": {},
   "source": [
    "## Romanian"
   ]
  },
  {
   "cell_type": "code",
   "execution_count": 117,
   "metadata": {},
   "outputs": [],
   "source": [
    "epi = epitran.Epitran('ron-Latn')"
   ]
  },
  {
   "cell_type": "code",
   "execution_count": 118,
   "metadata": {},
   "outputs": [],
   "source": [
    "romanianWords = words[words['language'] == \"Romanian\"]"
   ]
  },
  {
   "cell_type": "code",
   "execution_count": 119,
   "metadata": {},
   "outputs": [],
   "source": [
    "words.loc[words['language'] == 'Romanian', 'phon'] = [epi.transliterate(word) for word in romanianWords['Form']]\n",
    "words.loc[words['language'] == 'Romanian', 'method'] = 'epitran'"
   ]
  },
  {
   "cell_type": "markdown",
   "metadata": {},
   "source": [
    "## French"
   ]
  },
  {
   "cell_type": "code",
   "execution_count": 121,
   "metadata": {},
   "outputs": [],
   "source": [
    "epi = epitran.Epitran('fra-Latn')"
   ]
  },
  {
   "cell_type": "code",
   "execution_count": 122,
   "metadata": {},
   "outputs": [],
   "source": [
    "frenchWords = words[words['language'] == \"French\"]"
   ]
  },
  {
   "cell_type": "code",
   "execution_count": 123,
   "metadata": {},
   "outputs": [],
   "source": [
    "words.loc[words['language'] == 'French', 'phon'] = [epi.transliterate(word) for word in frenchWords['Form']]\n",
    "words.loc[words['language'] == 'French', 'method'] = 'epitran'"
   ]
  },
  {
   "cell_type": "markdown",
   "metadata": {},
   "source": [
    "# Multilingual G2P\n",
    "## https://github.com/jcsilva/multilingual-g2p"
   ]
  },
  {
   "cell_type": "markdown",
   "metadata": {},
   "source": [
    "Done in Bash"
   ]
  },
  {
   "cell_type": "markdown",
   "metadata": {},
   "source": [
    "# Manually constructed mappings"
   ]
  },
  {
   "cell_type": "markdown",
   "metadata": {},
   "source": [
    "## Ossetic (Cyrilic)"
   ]
  },
  {
   "cell_type": "code",
   "execution_count": 131,
   "metadata": {},
   "outputs": [],
   "source": [
    "epi = epitran.Epitran('oss-Cyrl')"
   ]
  },
  {
   "cell_type": "code",
   "execution_count": 132,
   "metadata": {},
   "outputs": [],
   "source": [
    "osseticWords = words[words['language'] == \"Ossetic\"]"
   ]
  },
  {
   "cell_type": "code",
   "execution_count": 126,
   "metadata": {},
   "outputs": [],
   "source": [
    "words.loc[words['language'] == 'Ossetic', 'phon'] = [epi.transliterate(word) for word in osseticWords['Form']]\n"
   ]
  },
  {
   "cell_type": "markdown",
   "metadata": {},
   "source": [
    "# English"
   ]
  },
  {
   "cell_type": "code",
   "execution_count": 127,
   "metadata": {},
   "outputs": [],
   "source": [
    "with open(\"DataForG2P/CMU.in.IPA.txt\", encoding = \"utf-8\") as f:\n",
    "    cmu = dict([line.replace(\",\", \"\").split() for line in f])"
   ]
  },
  {
   "cell_type": "code",
   "execution_count": 128,
   "metadata": {},
   "outputs": [],
   "source": [
    "englishWords = words[words['language'] == \"English\"]\n",
    "def get_cmu(word, cmudict):\n",
    "    try:\n",
    "        return cmudict[word]\n",
    "    except:\n",
    "        return \"NA\""
   ]
  },
  {
   "cell_type": "code",
   "execution_count": 129,
   "metadata": {},
   "outputs": [],
   "source": [
    "words.loc[words['language'] == 'English', 'phon'] = [get_cmu(word, cmu) for word in englishWords['Form']]\n",
    "words.loc[words['language'] == 'English', 'method'] = 'cmu.in.ipa'"
   ]
  },
  {
   "cell_type": "markdown",
   "metadata": {},
   "source": [
    "# Save"
   ]
  },
  {
   "cell_type": "code",
   "execution_count": 130,
   "metadata": {},
   "outputs": [],
   "source": [
    "words.to_csv('noPhonWithPhon.csv', index = False, index_label = False, encoding = 'utf-8')"
   ]
  },
  {
   "cell_type": "code",
   "execution_count": null,
   "metadata": {},
   "outputs": [],
   "source": []
  }
 ],
 "metadata": {
  "kernelspec": {
   "display_name": "Python 3",
   "language": "python",
   "name": "python3"
  },
  "language_info": {
   "codemirror_mode": {
    "name": "ipython",
    "version": 3
   },
   "file_extension": ".py",
   "mimetype": "text/x-python",
   "name": "python",
   "nbconvert_exporter": "python",
   "pygments_lexer": "ipython3",
   "version": "3.7.2"
  }
 },
 "nbformat": 4,
 "nbformat_minor": 2
}
