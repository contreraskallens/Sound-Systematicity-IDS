{
 "cells": [
  {
   "cell_type": "code",
   "execution_count": 8,
   "metadata": {},
   "outputs": [],
   "source": [
    "import pandas as pd\n",
    "import numpy as np\n",
    "words = pd.read_csv('../Processed/no_phon.csv', na_filter = False)\n",
    "words['phon'] = np.NaN\n",
    "words['method'] = np.NaN"
   ]
  },
  {
   "cell_type": "code",
   "execution_count": 10,
   "metadata": {},
   "outputs": [],
   "source": [
    "import epitran"
   ]
  },
  {
   "cell_type": "code",
   "execution_count": 11,
   "metadata": {},
   "outputs": [
    {
     "data": {
      "text/plain": [
       "{'Catalan',\n",
       " 'Danish',\n",
       " 'Dutch',\n",
       " 'English',\n",
       " 'French',\n",
       " 'German',\n",
       " 'Italian',\n",
       " 'Ossetic',\n",
       " 'Polish',\n",
       " 'Portuguese',\n",
       " 'Romanian',\n",
       " 'Swedish'}"
      ]
     },
     "execution_count": 11,
     "metadata": {},
     "output_type": "execute_result"
    }
   ],
   "source": [
    "set(words['language'])"
   ]
  },
  {
   "cell_type": "markdown",
   "metadata": {},
   "source": [
    "## German"
   ]
  },
  {
   "cell_type": "code",
   "execution_count": 12,
   "metadata": {},
   "outputs": [],
   "source": [
    "epi = epitran.Epitran('deu-Latn')"
   ]
  },
  {
   "cell_type": "code",
   "execution_count": 14,
   "metadata": {},
   "outputs": [],
   "source": [
    "german_words = words[words['language'] == \"German\"]"
   ]
  },
  {
   "cell_type": "code",
   "execution_count": 17,
   "metadata": {},
   "outputs": [],
   "source": [
    "new_german_words = [epi.transliterate(word) for word in german_words['Form']]"
   ]
  },
  {
   "cell_type": "code",
   "execution_count": 18,
   "metadata": {},
   "outputs": [],
   "source": [
    "words.loc[words['language'] == 'German', 'phon'] = new_german_words\n",
    "words.loc[words['language'] == 'German', 'method'] = 'epitran'"
   ]
  },
  {
   "cell_type": "markdown",
   "metadata": {},
   "source": [
    "## Catalan"
   ]
  },
  {
   "cell_type": "code",
   "execution_count": 19,
   "metadata": {},
   "outputs": [],
   "source": [
    "epi = epitran.Epitran('cat-Latn')"
   ]
  },
  {
   "cell_type": "code",
   "execution_count": 20,
   "metadata": {},
   "outputs": [],
   "source": [
    "catalan_words = words[words['language'] == \"Catalan\"]"
   ]
  },
  {
   "cell_type": "code",
   "execution_count": 21,
   "metadata": {},
   "outputs": [],
   "source": [
    "words.loc[words['language'] == 'Catalan', 'phon'] = [epi.transliterate(word) for word in catalan_words['Form']]\n",
    "words.loc[words['language'] == 'Catalan', 'method'] = 'epitran'"
   ]
  },
  {
   "cell_type": "markdown",
   "metadata": {},
   "source": [
    "## Italian"
   ]
  },
  {
   "cell_type": "code",
   "execution_count": 22,
   "metadata": {},
   "outputs": [],
   "source": [
    "epi = epitran.Epitran('ita-Latn')"
   ]
  },
  {
   "cell_type": "code",
   "execution_count": 23,
   "metadata": {},
   "outputs": [],
   "source": [
    "italian_words = words[words['language'] == \"Italian\"]"
   ]
  },
  {
   "cell_type": "code",
   "execution_count": 24,
   "metadata": {},
   "outputs": [],
   "source": [
    "words.loc[words['language'] == 'Italian', 'phon'] = [epi.transliterate(word) for word in italian_words['Form']]\n",
    "words.loc[words['language'] == 'Italian', 'method'] = 'epitran'"
   ]
  },
  {
   "cell_type": "markdown",
   "metadata": {},
   "source": [
    "## Swedish"
   ]
  },
  {
   "cell_type": "code",
   "execution_count": 25,
   "metadata": {},
   "outputs": [],
   "source": [
    "epi = epitran.Epitran('swe-Latn')"
   ]
  },
  {
   "cell_type": "code",
   "execution_count": 26,
   "metadata": {},
   "outputs": [],
   "source": [
    "swedish_words = words[words['language'] == \"Swedish\"]"
   ]
  },
  {
   "cell_type": "code",
   "execution_count": 27,
   "metadata": {},
   "outputs": [],
   "source": [
    "words.loc[words['language'] == 'Swedish', 'phon'] = [epi.transliterate(word) for word in swedish_words['Form']]\n",
    "words.loc[words['language'] == 'Swedish', 'method'] = 'epitran'"
   ]
  },
  {
   "cell_type": "markdown",
   "metadata": {},
   "source": [
    "## Portuguese"
   ]
  },
  {
   "cell_type": "code",
   "execution_count": 28,
   "metadata": {},
   "outputs": [],
   "source": [
    "epi = epitran.Epitran('por-Latn')"
   ]
  },
  {
   "cell_type": "code",
   "execution_count": 29,
   "metadata": {},
   "outputs": [],
   "source": [
    "portuguese_words = words[words['language'] == \"Portuguese\"]"
   ]
  },
  {
   "cell_type": "code",
   "execution_count": 30,
   "metadata": {},
   "outputs": [],
   "source": [
    "words.loc[words['language'] == 'Portuguese', 'phon'] = [epi.transliterate(word) for word in portuguese_words['Form']]\n",
    "words.loc[words['language'] == 'Portuguese', 'method'] = 'epitran'"
   ]
  },
  {
   "cell_type": "markdown",
   "metadata": {},
   "source": [
    "## Polish"
   ]
  },
  {
   "cell_type": "code",
   "execution_count": 31,
   "metadata": {},
   "outputs": [],
   "source": [
    "epi = epitran.Epitran('pol-Latn')"
   ]
  },
  {
   "cell_type": "code",
   "execution_count": 32,
   "metadata": {},
   "outputs": [],
   "source": [
    "polish_words = words[words['language'] == \"Polish\"]"
   ]
  },
  {
   "cell_type": "code",
   "execution_count": 33,
   "metadata": {},
   "outputs": [],
   "source": [
    "words.loc[words['language'] == 'Polish', 'phon'] = [epi.transliterate(word) for word in polish_words['Form']]\n",
    "words.loc[words['language'] == 'Polish', 'method'] = 'epitran'"
   ]
  },
  {
   "cell_type": "markdown",
   "metadata": {},
   "source": [
    "## Dutch"
   ]
  },
  {
   "cell_type": "code",
   "execution_count": 34,
   "metadata": {},
   "outputs": [],
   "source": [
    "epi = epitran.Epitran('nld-Latn')"
   ]
  },
  {
   "cell_type": "code",
   "execution_count": 35,
   "metadata": {},
   "outputs": [],
   "source": [
    "dutch_words = words[words['language'] == \"Dutch\"]"
   ]
  },
  {
   "cell_type": "code",
   "execution_count": 36,
   "metadata": {},
   "outputs": [],
   "source": [
    "words.loc[words['language'] == 'Dutch', 'phon'] = [epi.transliterate(word) for word in dutch_words['Form']]\n",
    "words.loc[words['language'] == 'Dutch', 'method'] = 'epitran'"
   ]
  },
  {
   "cell_type": "markdown",
   "metadata": {},
   "source": [
    "## Romanian"
   ]
  },
  {
   "cell_type": "code",
   "execution_count": 117,
   "metadata": {},
   "outputs": [],
   "source": [
    "epi = epitran.Epitran('ron-Latn')"
   ]
  },
  {
   "cell_type": "code",
   "execution_count": 37,
   "metadata": {},
   "outputs": [],
   "source": [
    "romanian_words = words[words['language'] == \"Romanian\"]"
   ]
  },
  {
   "cell_type": "code",
   "execution_count": 38,
   "metadata": {},
   "outputs": [],
   "source": [
    "words.loc[words['language'] == 'Romanian', 'phon'] = [epi.transliterate(word) for word in romanian_words['Form']]\n",
    "words.loc[words['language'] == 'Romanian', 'method'] = 'epitran'"
   ]
  },
  {
   "cell_type": "markdown",
   "metadata": {},
   "source": [
    "## French"
   ]
  },
  {
   "cell_type": "code",
   "execution_count": 39,
   "metadata": {},
   "outputs": [],
   "source": [
    "epi = epitran.Epitran('fra-Latn')"
   ]
  },
  {
   "cell_type": "code",
   "execution_count": 41,
   "metadata": {},
   "outputs": [],
   "source": [
    "french_words = words[words['language'] == \"French\"]"
   ]
  },
  {
   "cell_type": "code",
   "execution_count": 42,
   "metadata": {},
   "outputs": [],
   "source": [
    "words.loc[words['language'] == 'French', 'phon'] = [epi.transliterate(word) for word in french_words['Form']]\n",
    "words.loc[words['language'] == 'French', 'method'] = 'epitran'"
   ]
  },
  {
   "cell_type": "markdown",
   "metadata": {},
   "source": [
    "# Multilingual G2P\n",
    "## https://github.com/jcsilva/multilingual-g2p"
   ]
  },
  {
   "cell_type": "markdown",
   "metadata": {},
   "source": [
    "Done in Bash, see Multilingual-G2P folder. Done for czech, greek, latin, latvian"
   ]
  },
  {
   "cell_type": "markdown",
   "metadata": {},
   "source": [
    "# Manually constructed mappings"
   ]
  },
  {
   "cell_type": "markdown",
   "metadata": {},
   "source": [
    "## Ossetic (Cyrilic)"
   ]
  },
  {
   "cell_type": "code",
   "execution_count": 131,
   "metadata": {},
   "outputs": [],
   "source": [
    "epi = epitran.Epitran('oss-Cyrl')"
   ]
  },
  {
   "cell_type": "code",
   "execution_count": 132,
   "metadata": {},
   "outputs": [],
   "source": [
    "osseticWords = words[words['language'] == \"Ossetic\"]"
   ]
  },
  {
   "cell_type": "code",
   "execution_count": 126,
   "metadata": {},
   "outputs": [],
   "source": [
    "words.loc[words['language'] == 'Ossetic', 'phon'] = [epi.transliterate(word) for word in osseticWords['Form']]\n"
   ]
  },
  {
   "cell_type": "markdown",
   "metadata": {},
   "source": [
    "# English"
   ]
  },
  {
   "cell_type": "code",
   "execution_count": 127,
   "metadata": {},
   "outputs": [],
   "source": [
    "with open(\"DataForG2P/CMU.in.IPA.txt\", encoding = \"utf-8\") as f:\n",
    "    cmu = dict([line.replace(\",\", \"\").split() for line in f])"
   ]
  },
  {
   "cell_type": "code",
   "execution_count": 128,
   "metadata": {},
   "outputs": [],
   "source": [
    "englishWords = words[words['language'] == \"English\"]\n",
    "def get_cmu(word, cmudict):\n",
    "    try:\n",
    "        return cmudict[word]\n",
    "    except:\n",
    "        return \"NA\""
   ]
  },
  {
   "cell_type": "code",
   "execution_count": 129,
   "metadata": {},
   "outputs": [],
   "source": [
    "words.loc[words['language'] == 'English', 'phon'] = [get_cmu(word, cmu) for word in englishWords['Form']]\n",
    "words.loc[words['language'] == 'English', 'method'] = 'cmu.in.ipa'"
   ]
  },
  {
   "cell_type": "markdown",
   "metadata": {},
   "source": [
    "# Save"
   ]
  },
  {
   "cell_type": "code",
   "execution_count": 130,
   "metadata": {},
   "outputs": [],
   "source": [
    "words.to_csv('noPhonWithPhon.csv', index = False, index_label = False, encoding = 'utf-8')"
   ]
  },
  {
   "cell_type": "code",
   "execution_count": null,
   "metadata": {},
   "outputs": [],
   "source": []
  }
 ],
 "metadata": {
  "kernelspec": {
   "display_name": "Python 3",
   "language": "python",
   "name": "python3"
  },
  "language_info": {
   "codemirror_mode": {
    "name": "ipython",
    "version": 3
   },
   "file_extension": ".py",
   "mimetype": "text/x-python",
   "name": "python",
   "nbconvert_exporter": "python",
   "pygments_lexer": "ipython3",
   "version": "3.7.3"
  }
 },
 "nbformat": 4,
 "nbformat_minor": 2
}
